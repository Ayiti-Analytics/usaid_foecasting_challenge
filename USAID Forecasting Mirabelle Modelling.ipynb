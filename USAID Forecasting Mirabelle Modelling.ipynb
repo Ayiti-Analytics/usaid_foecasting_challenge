{
 "cells": [
  {
   "cell_type": "code",
   "execution_count": 1,
   "metadata": {},
   "outputs": [],
   "source": [
    "import pandas as pd\n",
    "import matplotlib.pyplot as plt"
   ]
  },
  {
   "cell_type": "code",
   "execution_count": 2,
   "metadata": {},
   "outputs": [
    {
     "data": {
      "text/html": [
       "<div>\n",
       "<style scoped>\n",
       "    .dataframe tbody tr th:only-of-type {\n",
       "        vertical-align: middle;\n",
       "    }\n",
       "\n",
       "    .dataframe tbody tr th {\n",
       "        vertical-align: top;\n",
       "    }\n",
       "\n",
       "    .dataframe thead th {\n",
       "        text-align: right;\n",
       "    }\n",
       "</style>\n",
       "<table border=\"1\" class=\"dataframe\">\n",
       "  <thead>\n",
       "    <tr style=\"text-align: right;\">\n",
       "      <th></th>\n",
       "      <th>year</th>\n",
       "      <th>month</th>\n",
       "      <th>region</th>\n",
       "      <th>district</th>\n",
       "      <th>site_code</th>\n",
       "      <th>product_code</th>\n",
       "      <th>stock_initial</th>\n",
       "      <th>stock_received</th>\n",
       "      <th>stock_distributed</th>\n",
       "      <th>stock_adjustment</th>\n",
       "      <th>stock_end</th>\n",
       "      <th>average_monthly_consumption</th>\n",
       "      <th>stock_stockout_days</th>\n",
       "      <th>stock_ordered</th>\n",
       "    </tr>\n",
       "  </thead>\n",
       "  <tbody>\n",
       "    <tr>\n",
       "      <th>0</th>\n",
       "      <td>2019</td>\n",
       "      <td>1</td>\n",
       "      <td>INDENIE-DJUABLIN</td>\n",
       "      <td>ABENGOUROU</td>\n",
       "      <td>C4001</td>\n",
       "      <td>AS27134</td>\n",
       "      <td>75</td>\n",
       "      <td>0</td>\n",
       "      <td>21</td>\n",
       "      <td>-54</td>\n",
       "      <td>0</td>\n",
       "      <td>18</td>\n",
       "      <td>0</td>\n",
       "      <td>100.0</td>\n",
       "    </tr>\n",
       "    <tr>\n",
       "      <th>1</th>\n",
       "      <td>2019</td>\n",
       "      <td>1</td>\n",
       "      <td>INDENIE-DJUABLIN</td>\n",
       "      <td>ABENGOUROU</td>\n",
       "      <td>C4001</td>\n",
       "      <td>AS27132</td>\n",
       "      <td>3</td>\n",
       "      <td>0</td>\n",
       "      <td>3</td>\n",
       "      <td>0</td>\n",
       "      <td>0</td>\n",
       "      <td>2</td>\n",
       "      <td>0</td>\n",
       "      <td>10.0</td>\n",
       "    </tr>\n",
       "    <tr>\n",
       "      <th>2</th>\n",
       "      <td>2019</td>\n",
       "      <td>1</td>\n",
       "      <td>INDENIE-DJUABLIN</td>\n",
       "      <td>ABENGOUROU</td>\n",
       "      <td>C4001</td>\n",
       "      <td>AS27000</td>\n",
       "      <td>0</td>\n",
       "      <td>75</td>\n",
       "      <td>22</td>\n",
       "      <td>0</td>\n",
       "      <td>53</td>\n",
       "      <td>9</td>\n",
       "      <td>0</td>\n",
       "      <td>0.0</td>\n",
       "    </tr>\n",
       "    <tr>\n",
       "      <th>3</th>\n",
       "      <td>2019</td>\n",
       "      <td>1</td>\n",
       "      <td>INDENIE-DJUABLIN</td>\n",
       "      <td>ABENGOUROU</td>\n",
       "      <td>C4001</td>\n",
       "      <td>AS27137</td>\n",
       "      <td>2</td>\n",
       "      <td>0</td>\n",
       "      <td>0</td>\n",
       "      <td>0</td>\n",
       "      <td>2</td>\n",
       "      <td>0</td>\n",
       "      <td>0</td>\n",
       "      <td>0.0</td>\n",
       "    </tr>\n",
       "    <tr>\n",
       "      <th>4</th>\n",
       "      <td>2019</td>\n",
       "      <td>1</td>\n",
       "      <td>INDENIE-DJUABLIN</td>\n",
       "      <td>ABENGOUROU</td>\n",
       "      <td>C4001</td>\n",
       "      <td>AS27138</td>\n",
       "      <td>45</td>\n",
       "      <td>0</td>\n",
       "      <td>2</td>\n",
       "      <td>0</td>\n",
       "      <td>43</td>\n",
       "      <td>1</td>\n",
       "      <td>0</td>\n",
       "      <td>0.0</td>\n",
       "    </tr>\n",
       "  </tbody>\n",
       "</table>\n",
       "</div>"
      ],
      "text/plain": [
       "   year  month            region    district site_code product_code  \\\n",
       "0  2019      1  INDENIE-DJUABLIN  ABENGOUROU     C4001      AS27134   \n",
       "1  2019      1  INDENIE-DJUABLIN  ABENGOUROU     C4001      AS27132   \n",
       "2  2019      1  INDENIE-DJUABLIN  ABENGOUROU     C4001      AS27000   \n",
       "3  2019      1  INDENIE-DJUABLIN  ABENGOUROU     C4001      AS27137   \n",
       "4  2019      1  INDENIE-DJUABLIN  ABENGOUROU     C4001      AS27138   \n",
       "\n",
       "   stock_initial  stock_received  stock_distributed  stock_adjustment  \\\n",
       "0             75               0                 21               -54   \n",
       "1              3               0                  3                 0   \n",
       "2              0              75                 22                 0   \n",
       "3              2               0                  0                 0   \n",
       "4             45               0                  2                 0   \n",
       "\n",
       "   stock_end  average_monthly_consumption  stock_stockout_days  stock_ordered  \n",
       "0          0                           18                    0          100.0  \n",
       "1          0                            2                    0           10.0  \n",
       "2         53                            9                    0            0.0  \n",
       "3          2                            0                    0            0.0  \n",
       "4         43                            1                    0            0.0  "
      ]
     },
     "execution_count": 2,
     "metadata": {},
     "output_type": "execute_result"
    }
   ],
   "source": [
    "data_logistic=pd.read_csv('./contraceptive_logistics_data.csv')\n",
    "data_logistic.head()"
   ]
  },
  {
   "cell_type": "code",
   "execution_count": 5,
   "metadata": {},
   "outputs": [],
   "source": [
    "data_logistic[\"date\"]=[str(annee)+'-'+str(mois)+'-01' for mois, annee in zip(data_logistic['month'],data_logistic['year'])]\n",
    "data_logistic['date']=pd.to_datetime(data_logistic['date'])\n",
    "data_logistic['product_site']=[product+site for product,site in zip (data_logistic['site_code'],data_logistic['product_code'])]\n",
    "b=data_logistic.groupby('product_site').agg({'product_code':'count'})\n",
    "b.reset_index(inplace=True)\n"
   ]
  },
  {
   "cell_type": "code",
   "execution_count": 6,
   "metadata": {},
   "outputs": [],
   "source": [
    "b['zeros']='N'\n",
    "\n",
    "for index, row  in b.iterrows():\n",
    "    s=data_logistic[ data_logistic['product_site']==row['product_site']]['stock_distributed'].sum()\n",
    "    if(s==0):\n",
    "        b.loc[index,'zeros']=\"O\""
   ]
  },
  {
   "cell_type": "code",
   "execution_count": 8,
   "metadata": {},
   "outputs": [
    {
     "data": {
      "text/html": [
       "<div>\n",
       "<style scoped>\n",
       "    .dataframe tbody tr th:only-of-type {\n",
       "        vertical-align: middle;\n",
       "    }\n",
       "\n",
       "    .dataframe tbody tr th {\n",
       "        vertical-align: top;\n",
       "    }\n",
       "\n",
       "    .dataframe thead th {\n",
       "        text-align: right;\n",
       "    }\n",
       "</style>\n",
       "<table border=\"1\" class=\"dataframe\">\n",
       "  <thead>\n",
       "    <tr style=\"text-align: right;\">\n",
       "      <th></th>\n",
       "      <th>product_site</th>\n",
       "    </tr>\n",
       "    <tr>\n",
       "      <th>zeros</th>\n",
       "      <th></th>\n",
       "    </tr>\n",
       "  </thead>\n",
       "  <tbody>\n",
       "    <tr>\n",
       "      <th>N</th>\n",
       "      <td>972</td>\n",
       "    </tr>\n",
       "    <tr>\n",
       "      <th>O</th>\n",
       "      <td>385</td>\n",
       "    </tr>\n",
       "  </tbody>\n",
       "</table>\n",
       "</div>"
      ],
      "text/plain": [
       "       product_site\n",
       "zeros              \n",
       "N               972\n",
       "O               385"
      ]
     },
     "execution_count": 8,
     "metadata": {},
     "output_type": "execute_result"
    }
   ],
   "source": [
    "b.groupby('zeros').agg({'product_site':'count'}) #we have 385 site with any value for stock distributed. May be we need to focus on 972 for our forecasting\n"
   ]
  },
  {
   "cell_type": "code",
   "execution_count": 9,
   "metadata": {},
   "outputs": [],
   "source": [
    "c=b[(b['zeros']=='N')]\n",
    "c=c[c['product_code']>11]#Let's focus on the \"N\", particulary for those whose series have more than eleven values or periods"
   ]
  },
  {
   "cell_type": "code",
   "execution_count": null,
   "metadata": {},
   "outputs": [],
   "source": [
    "# Utilisation d'un modèle de réseau de neurone\n",
    "#!pip install tensorflow\n",
    "import tensorflow as tf\n",
    "import numpy as np"
   ]
  },
  {
   "cell_type": "code",
   "execution_count": null,
   "metadata": {},
   "outputs": [],
   "source": [
    "def windowed_dataset(series, window_size, batch_size, shuffle_buffer):\n",
    "  dataset = tf.data.Dataset.from_tensor_slices(series)\n",
    "  dataset = dataset.window(window_size + 1, shift=1, drop_remainder=True)\n",
    "  dataset = dataset.flat_map(lambda window: window.batch(window_size + 1))\n",
    "  dataset = dataset.shuffle(shuffle_buffer).map(lambda window: (window[:-1], window[-1]))\n",
    "  dataset = dataset.batch(batch_size).prefetch(1)\n",
    "  return dataset"
   ]
  },
  {
   "cell_type": "code",
   "execution_count": null,
   "metadata": {},
   "outputs": [],
   "source": [
    "window_size = 2\n",
    "batch_size = 5\n",
    "shuffle_buffer_size = len(series)\n",
    "print(len(series))"
   ]
  },
  {
   "cell_type": "code",
   "execution_count": null,
   "metadata": {},
   "outputs": [],
   "source": [
    "dataset = windowed_dataset(series, window_size, batch_size, shuffle_buffer_size)\n",
    "print(dataset)\n",
    "l0 = tf.keras.layers.Dense(1, input_shape=[window_size])\n",
    "model = tf.keras.models.Sequential([l0])\n",
    "\n",
    "\n",
    "model.compile(loss=\"mse\", optimizer=tf.keras.optimizers.SGD(lr=1e-6, momentum=0.9))\n",
    "model.fit(dataset,epochs=100,verbose=1)\n",
    "\n",
    "print(\"Layer weights {}\".format(l0.get_weights()))"
   ]
  },
  {
   "cell_type": "code",
   "execution_count": null,
   "metadata": {},
   "outputs": [],
   "source": [
    "model = tf.keras.models.Sequential([\n",
    "    tf.keras.layers.Dense(20, input_shape=[window_size], activation=\"relu\"), \n",
    "    tf.keras.layers.Dense(10, activation=\"relu\"), \n",
    "    tf.keras.layers.Dense(10, activation=\"relu\"), \n",
    "    tf.keras.layers.Dense(1)\n",
    "])\n",
    "\n",
    "optimizer = tf.keras.optimizers.SGD(lr=8e-6, momentum=0.9)\n",
    "model.compile(loss=\"mse\", optimizer=optimizer)\n",
    "history = model.fit(dataset, epochs=500, verbose=0)"
   ]
  },
  {
   "cell_type": "code",
   "execution_count": null,
   "metadata": {},
   "outputs": [],
   "source": [
    "forecast = []\n",
    "\n",
    "for t in range(len(series) - window_size):\n",
    " \n",
    "  forecast.append(model.predict(series[t:t + window_size][np.newaxis]))\n",
    "  \n",
    "results = np.array(forecast)[:,0,0]\n",
    "\n",
    "plt.figure(figsize=(10, 6))\n",
    "\n",
    "plt.plot(time, series)\n",
    "plt.plot(time[2:], results)"
   ]
  },
  {
   "cell_type": "code",
   "execution_count": null,
   "metadata": {},
   "outputs": [],
   "source": [
    "tf.keras.metrics.mean_absolute_error(series[:31], results).numpy()"
   ]
  }
 ],
 "metadata": {
  "kernelspec": {
   "display_name": "Python 3",
   "language": "python",
   "name": "python3"
  },
  "language_info": {
   "codemirror_mode": {
    "name": "ipython",
    "version": 3
   },
   "file_extension": ".py",
   "mimetype": "text/x-python",
   "name": "python",
   "nbconvert_exporter": "python",
   "pygments_lexer": "ipython3",
   "version": "3.7.6"
  }
 },
 "nbformat": 4,
 "nbformat_minor": 4
}
